{
 "cells": [
  {
   "cell_type": "markdown",
   "metadata": {},
   "source": [
    "# Advanced usage of toppra output\n",
    "\n"
   ]
  },
  {
   "cell_type": "code",
   "execution_count": 16,
   "metadata": {},
   "outputs": [],
   "source": [
    "# toppra\n",
    "import toppra as ta\n",
    "import toppra.constraint as constraint\n",
    "import toppra.algorithm as algo\n",
    "import numpy as np\n",
    "# misc: for plotting and measuring time\n",
    "import matplotlib.pyplot as plt\n",
    "import seaborn as sns\n",
    "import time\n",
    "\n",
    "# Random waypoints used to obtain a random geometric path. Here,\n",
    "# we use spline interpolation.\n",
    "dof = 6\n",
    "np.random.seed(0)\n",
    "way_pts = np.random.randn(3, dof)\n",
    "path = ta.SplineInterpolator(np.linspace(0, 1, 3), way_pts)\n",
    "\n",
    "# Create velocity bounds, then velocity constraint object\n",
    "vlim_ = np.random.rand(dof) * 20\n",
    "vlim = np.vstack((-vlim_, vlim_)).T\n",
    "# Create acceleration bounds, then acceleration constraint object\n",
    "alim_ = np.random.rand(dof) * 100\n",
    "alim = np.vstack((-alim_, alim_)).T\n",
    "pc_vel = constraint.JointVelocityConstraint(vlim)\n",
    "pc_acc = constraint.JointAccelerationConstraint(\n",
    "   alim, discretization_scheme=constraint.DiscretizationType.Interpolation)\n",
    "\n",
    "t0 = time.time()\n",
    "# Setup a parametrization instance, then retime\n",
    "gridpoints = np.linspace(0, path.duration, 200)\n",
    "instance = algo.TOPPRA([pc_vel, pc_acc], path, gridpoints=gridpoints, solver_wrapper='seidel')\n",
    "\n"
   ]
  },
  {
   "cell_type": "code",
   "execution_count": 17,
   "metadata": {},
   "outputs": [],
   "source": [
    "sdd_grid, sd_grid, _, K_grid = instance.compute_parameterization(0, 0, return_data=True)"
   ]
  },
  {
   "cell_type": "code",
   "execution_count": 18,
   "metadata": {},
   "outputs": [
    {
     "data": {
      "image/png": "[encoded data removed]",
      "text/plain": [
       "<matplotlib.figure.Figure at 0x7facfa514d90>"
      ]
     },
     "metadata": {},
     "output_type": "display_data"
    }
   ],
   "source": [
    "plt.plot(sd_grid, label='path velocity')\n",
    "plt.plot(np.sqrt(K_grid[:, 0]), label='lower bound')\n",
    "plt.plot(np.sqrt(K_grid[:, 1]), label='upper bound')\n",
    "plt.show()"
   ]
  },
  {
   "cell_type": "code",
   "execution_count": 10,
   "metadata": {},
   "outputs": [],
   "source": []
  },
  {
   "cell_type": "code",
   "execution_count": null,
   "metadata": {},
   "outputs": [],
   "source": []
  },
  {
   "cell_type": "code",
   "execution_count": null,
   "metadata": {},
   "outputs": [],
   "source": []
  }
 ],
 "metadata": {
  "kernelspec": {
   "display_name": "Python 2",
   "language": "python",
   "name": "python2"
  },
  "language_info": {
   "codemirror_mode": {
    "name": "ipython",
    "version": 2
   },
   "file_extension": ".py",
   "mimetype": "text/x-python",
   "name": "python",
   "nbconvert_exporter": "python",
   "pygments_lexer": "ipython2",
   "version": "2.7.12"
  },
  "latex_envs": {
   "LaTeX_envs_menu_present": true,
   "autoclose": false,
   "autocomplete": true,
   "bibliofile": "biblio.bib",
   "cite_by": "apalike",
   "current_citInitial": 1,
   "eqLabelWithNumbers": true,
   "eqNumInitial": 1,
   "hotkeys": {
    "equation": "Ctrl-E",
    "itemize": "Ctrl-I"
   },
   "labels_anchors": false,
   "latex_user_defs": false,
   "report_style_numbering": false,
   "user_envs_cfg": false
  }
 },
 "nbformat": 4,
 "nbformat_minor": 2
}
