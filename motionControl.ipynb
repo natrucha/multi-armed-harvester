{
 "cells": [
  {
   "cell_type": "code",
   "execution_count": 106,
   "metadata": {},
   "outputs": [],
   "source": [
    "#!/usr/bin/python\n",
    "# -*- coding: utf-8 -*-\n",
    "\n",
    "import numpy as np\n",
    "import matplotlib.pyplot as plt\n",
    "from dataclasses import dataclass"
   ]
  },
  {
   "cell_type": "code",
   "execution_count": 153,
   "metadata": {},
   "outputs": [],
   "source": [
    "################## DATA CLASSES ########################\n",
    "@dataclass\n",
    "class axisValues:\n",
    "    '''Class for keeping track of important values for each axis's motion.'''\n",
    "    maxVel: float\n",
    "    maxAccel: float\n",
    "    maxDeaccel: float\n",
    "    maxJerk: float\n",
    "\n",
    "@dataclass\n",
    "class periodValues:\n",
    "    '''Class for keeping track of the time periods of the S-Curve.'''\n",
    "    x: float     # time period during which velocity increases\n",
    "    x_bar: float # time period during which velocity is constant\n",
    "    x_hat: float # time period during which velocity decreases\n",
    "\n",
    "@dataclass\n",
    "class trapezoid:\n",
    "    '''Class for keeping track of the trapezoidal profile values.'''\n",
    "    timeAccel: float     # time period during which acceleration increases\n",
    "    timeDeaccel: float   # time period during which acceleration decreases\n",
    "    distAccel: float\n",
    "    distDeaccel: float"
   ]
  },
  {
   "cell_type": "code",
   "execution_count": 154,
   "metadata": {},
   "outputs": [],
   "source": [
    "##################### FUNCTIONS ##########################\n",
    "\n",
    "def returnAxisMaxValues( ):\n",
    "    # Specific to the motor being used\n",
    "    # see \"example motor\"\n",
    "    rpm = 4000      # rpm -> 1 RPM = 0.10472 rad/sec\n",
    "    inertia = 48e-6 # kgm2\n",
    "    torque = 0.125  # Nm\n",
    "\n",
    "    maxVel   = rpm * 0.10472 /1000 # in rad/sec -> rad/msec\n",
    "    maxAccel = torque / inertia /(1000*1000)# in rad/msec^2\n",
    "    maxDeaccel = torque / inertia /(1000*1000)# in rad/msec^2\n",
    "    maxJerk  = maxAccel**2 / (maxVel - (v0/1000))# /(1000*1000*1000)# X.maxJerk >= Time / (2*X.maxAccel)\n",
    "    return axisValues(maxVel, maxAccel, maxDeaccel, maxJerk)\n",
    "\n",
    "def updateMaxJerk(v0, velocity, acceleration):\n",
    "    updatedJerk  = acceleration**2 / (velocity - (v0/1000))\n",
    "    return updatedJerk\n",
    "\n",
    "def calculatePeriods( maxVel, maxAccel, maxDeaccel, maxJerk ):\n",
    "    # calculate x and x_bar depending on the profile type\n",
    "    # based on [4]\n",
    "    x_hat = 0\n",
    "    if profileType == 0:\n",
    "        x = 2*maxAccel / maxJerk\n",
    "        x_bar = 2*maxDeaccel / maxJerk\n",
    "    elif profileType == 1 or profileType == 2:\n",
    "        x = (maxVel - v0) / maxAccel + maxAccel / maxJerk\n",
    "        x_bar = (maxVel - vf) / maxDeaccel + maxDeaccel / maxJerk\n",
    "        x_hat = ( 2*xDist - (v0 + maxVel)*x - (maxVel+vf)*x_bar ) / (2*maxVel) # from L = 0.5*(v0 + vp)*x + 0.5*(vp-vf)*x_bar + vp*x_hat\n",
    "    return periodValues(x, x_bar, x_hat)\n",
    "\n",
    "def correctVelSmallDist(distance, accelDist, deaccelDist,oldVelocity):\n",
    "    # careful with these values, can get really weird final distance results when it causes \"change\"\n",
    "    # variable to = 1, changing x, x_hat and x_bar\n",
    "    roughError = xDist / (X_trap.distAccel + X_trap.distDeaccel)\n",
    "    # print(\"test:\", tst)\n",
    "    if roughError > 1.15:\n",
    "        k = 0.4\n",
    "    elif roughError > 1.1:\n",
    "        k = 0.475\n",
    "    elif roughError > 1:\n",
    "        k = 0.675\n",
    "    elif roughError > 0.85:\n",
    "        k = 0.65\n",
    "    elif roughError > 0.55:\n",
    "        k = 0.8\n",
    "    elif roughError > 0.25:\n",
    "        k = 0.85\n",
    "    else:\n",
    "        k = 1\n",
    "    velocity = oldVelocity * roughError * k\n",
    "    return velocity\n",
    "\n",
    "def calculateTrap(velocity, accel, deaccel):\n",
    "    # calculate the trapezoidal time for accel and deaccel\n",
    "    timeAccel   = velocity / accel\n",
    "    timeDeaccel = velocity / deaccel\n",
    "    # calculate the trapezoidal distance achieved with given acceleration times and velocity\n",
    "    distAccel = 0.5 * timeAccel * velocity\n",
    "    distDeaccel = 0.5 * timeDeaccel * velocity # if deaccel != accel\n",
    "    return trapezoid(timeAccel, timeDeaccel, distAccel, distDeaccel)\n",
    "    # return accelTime(timeAccel, timeDeaccel)"
   ]
  },
  {
   "cell_type": "code",
   "execution_count": 332,
   "metadata": {},
   "outputs": [
    {
     "name": "stdout",
     "output_type": "stream",
     "text": [
      "max velocity: 0.41888\n"
     ]
    }
   ],
   "source": [
    "v0 = 0.2 # will have to get from simulation\n",
    "vf = 0 # will probably always want to stop at the end\n",
    "\n",
    "# starting point in x, y for now\n",
    "start = [2, 0] # will need to get this from the simulation\n",
    "end   = [60, 6] # will need to get this from the simulation\n",
    "\n",
    "X = returnAxisMaxValues()\n",
    "Y = returnAxisMaxValues()\n",
    "print(\"max velocity:\", X.maxVel)\n",
    "\n",
    "## calculate total time to travel using the trapezoidal curve\n",
    "# distance for x-coordinates\n",
    "# xDist = np.sqrt( end[0]**2 - start[0]**2 )\n",
    "xDist = end[0] - start[0]\n",
    "# distance for y-coordinates\n",
    "yDist = np.sqrt( end[1]**2 - start[1]**2 )"
   ]
  },
  {
   "cell_type": "code",
   "execution_count": 333,
   "metadata": {},
   "outputs": [
    {
     "name": "stdout",
     "output_type": "stream",
     "text": [
      "dist accel: 33.6884072448 dist deaccel: 33.6884072448\n",
      "Profile type: 1\n"
     ]
    }
   ],
   "source": [
    "# Calculate max trapezoidal time and  distance travel during max accel/Deaccel to max velocity\n",
    "X_trap = calculateTrap(X.maxVel, X.maxAccel, X.maxDeaccel)\n",
    "print(\"dist accel:\", X_trap.distAccel, \"dist deaccel:\", X_trap.distDeaccel)\n",
    "\n",
    "# Set default profile type (if no const velocity section but it does reach max velocity)\n",
    "profileType = 0\n",
    "# Set default variables for profile type 0\n",
    "distConstVel_x = 0\n",
    "timeConstVel_x = 0\n",
    "\n",
    "# calculate trapezoidal profile\n",
    "if (X_trap.distAccel + X_trap.distDeaccel)*1.25 > xDist:\n",
    "    # profile type has such short distance, max velocity has to be recalculated\n",
    "    # calculate the actual \"final velocity\" at which deaccel needed\n",
    "    X.maxVel = correctVelSmallDist(xDist, X_trap.distAccel, X_trap.distDeaccel, X.maxVel)\n",
    "    # print(\"new max velocity:\", X.maxVel)\n",
    "    # recalculate values with new speed and time values\n",
    "    X_trap = calculateTrap(X.maxVel, X.maxAccel, X.maxDeaccel)\n",
    "    X.maxJerk = updateMaxJerk(v0, X.maxVel, X.maxAccel)\n",
    "    profileType = 1\n",
    "\n",
    "elif (X_trap.distAccel + X_trap.distDeaccel)*1.25 < xDist:\n",
    "    # profile type reaches max velocity and has some constant velocity\n",
    "    profileType = 2\n",
    "\n",
    "print(\"Profile type:\", profileType)"
   ]
  },
  {
   "cell_type": "code",
   "execution_count": 334,
   "metadata": {},
   "outputs": [],
   "source": [
    "# calculate total values\n",
    "distConstVel_x = xDist - X_trap.distAccel - X_trap.distDeaccel\n",
    "timeConstVel_x = distConstVel_x / X.maxVel\n",
    "# print(\"new dist accel:\", X_trap.distAccel, \"dist deaccel:\", X_trap.distDeaccel, \"dist const:\", distConstVel_x)\n",
    "total_time_x = X_trap.timeAccel + X_trap.timeDeaccel + timeConstVel_x"
   ]
  },
  {
   "cell_type": "code",
   "execution_count": 335,
   "metadata": {},
   "outputs": [
    {
     "name": "stdout",
     "output_type": "stream",
     "text": [
      "x value:  103.12701970970207 x_bar value:  179.92701970970205 x_hat value:  61.93446763739609\n"
     ]
    }
   ],
   "source": [
    "X_time = calculatePeriods(X.maxVel, X.maxAccel, X.maxDeaccel, X.maxJerk)\n",
    "print(\"x value: \", X_time.x, \"x_bar value: \", X_time.x_bar, \"x_hat value: \", X_time.x_hat )"
   ]
  },
  {
   "cell_type": "code",
   "execution_count": 336,
   "metadata": {},
   "outputs": [
    {
     "name": "stdout",
     "output_type": "stream",
     "text": [
      "x value:  103.12701970970207 x_bar value:  179.92701970970205 x_hat value:  61.93446763739609\n"
     ]
    }
   ],
   "source": [
    "change = 0\n",
    "# Calculate when max acceleration has to be changed. Not quite correct for smaller values\n",
    "if X.maxVel - v0 > 0.25*X.maxJerk*X_time.x**2 :\n",
    "    X.maxAccel = 0.5*X.maxJerk*X_time.x*2\n",
    "    # maxJerk  = X.maxAccel**2 / (X.maxVel - (v0/1000))\n",
    "    change = 1\n",
    "\n",
    "if X.maxVel - vf > 0.25*X.maxJerk*X_time.x_bar**2 :\n",
    "    X.maxDeaccel = 0.5*X.maxJerk*X_time.x_bar*2\n",
    "    change = 1\n",
    "\n",
    "if change == 1:\n",
    "    X_time = calculatePeriods( X.maxVel, X.maxAccel, X.maxDeaccel, X.maxJerk)\n",
    "\n",
    "print(\"x value: \", X_time.x, \"x_bar value: \", X_time.x_bar, \"x_hat value: \", X_time.x_hat )"
   ]
  },
  {
   "cell_type": "code",
   "execution_count": 337,
   "metadata": {},
   "outputs": [
    {
     "name": "stdout",
     "output_type": "stream",
     "text": [
      "time_1:  89.92510985485103 time_2:  0 time_3:  89.92510985485103\n",
      "time_4:  61.93446763739609 time_5:  89.92510985485103 time_6:  0.07679999999999154\n"
     ]
    }
   ],
   "source": [
    "# how long each s-curve section takes\n",
    "T1 = X.maxAccel / X.maxJerk\n",
    "T2 = X_time.x - 2*T1\n",
    "if T2 <= 0:\n",
    "    T2 = 0\n",
    "T3 = T1\n",
    "T4 = X_time.x_hat\n",
    "if T4 < 0:\n",
    "    T4 = 0\n",
    "T5 = X.maxDeaccel / X.maxJerk\n",
    "T6 = X_time.x_bar - 2*T5\n",
    "if T6 < 0:\n",
    "    T6 = 0\n",
    "\n",
    "print(\"time_1: \",T1,\"time_2: \",T2,\"time_3: \",T3)\n",
    "print(\"time_4: \",T4,\"time_5: \",T5,\"time_6: \",T6)"
   ]
  },
  {
   "cell_type": "code",
   "execution_count": 338,
   "metadata": {},
   "outputs": [
    {
     "name": "stdout",
     "output_type": "stream",
     "text": [
      "final time smooth:  421.7117070568002 final time trapezoid:  337.4633252394664\n"
     ]
    }
   ],
   "source": [
    "# time at the end of each section of the s-curve\n",
    "Ts1 = T1 + T2\n",
    "Ts2 = Ts1 + T3\n",
    "Ts3 = Ts2 + T4\n",
    "Ts4 = Ts3 + T5\n",
    "Ts5 = Ts4 + T6\n",
    "\n",
    "Ts6= Ts5 + T5 # total time it takes to go thorugh every s-curve section\n",
    "\n",
    "print(\"final time smooth: \",Ts6, \"final time trapezoid: \", total_time_x)"
   ]
  },
  {
   "cell_type": "code",
   "execution_count": 339,
   "metadata": {},
   "outputs": [
    {
     "name": "stdout",
     "output_type": "stream",
     "text": [
      "time: 131.28 distance: 10.236366043789433 velocity: 0.20000823408046173\n"
     ]
    }
   ],
   "source": [
    "Tm = 0             # time at which v[t] = v0 to correct if v0 != 0\n",
    "curveSection = 0\n",
    "v_t = 0\n",
    "s_t = 0\n",
    "sm = 0\n",
    "vm = 0\n",
    "\n",
    "if v0 > vf:\n",
    "    for i in range(int(Ts6 / 0.01)):\n",
    "        tm = i * 0.01 # in msec\n",
    "        if curveSection == 0:\n",
    "            # Concave accel section\n",
    "            if tm >= T1 and T2 > 0:\n",
    "                # curveSection = 1\n",
    "                curveSection = 10\n",
    "                v1 = v_t\n",
    "                s1 = s_t\n",
    "            elif tm >= T1 and T2 <= 0:\n",
    "                # curveSection = 1\n",
    "                curveSection = 1\n",
    "                v1 = v_t\n",
    "                v2 = v1\n",
    "                s1 = s_t\n",
    "                s2 = s1\n",
    "            else:\n",
    "                v_t = X.maxJerk*tm**2 / 2  ##\n",
    "                s_t = start[1] + X.maxJerk*tm**3 / 6  ##\n",
    "\n",
    "        if curveSection == 10:\n",
    "            if tm >= Ts1:\n",
    "                # print(\"time_2: \", t[i], \"change: \", Ts1, \"dist moved: \", s[i-1])\n",
    "                curveSection = 1\n",
    "                v2 = v_t\n",
    "                s2 = s_t\n",
    "            else:\n",
    "                v_t = v1 + X.maxAccel*(tm-T1)                        ##\n",
    "                s_t = s1 + v1*(tm-T1) + X.maxAccel*(tm-T1)**2 / 2  ##\n",
    "\n",
    "        if curveSection == 1:\n",
    "            if tm >= Ts2 and T4 > 0:\n",
    "                # print(\"time_3: \", t[i], \"change: \", Ts2, \"dist moved: \", s[i-1])\n",
    "                curveSection = 2\n",
    "                v3 = v_t\n",
    "                s3 = s_t\n",
    "            elif tm >= Ts2 and T4 <= 0:\n",
    "                # print(\"time_3: \", t[i], \"change: \", Ts2, \"dist moved: \", s[i-1])\n",
    "                curveSection = 3\n",
    "                v3 = v_t\n",
    "                v4 = v3\n",
    "                s3 = s_t\n",
    "                s4 = s3\n",
    "            else:\n",
    "                # Convex accel period\n",
    "                v_t = v2 + X.maxAccel*(tm-Ts1) - X.maxJerk*(tm-Ts1)**2 / 2                 ##\n",
    "                s_t = s2 + v2*(tm-Ts1) + X.maxAccel*(tm-Ts1)**2 / 2 - X.maxJerk*(tm-Ts1)**3 / 6  ##\n",
    "\n",
    "        if curveSection == 2:\n",
    "            if tm >= Ts3:\n",
    "                # print(\"time_4: \", t[i], \"change: \", Ts3, \"dist moved: \", s[i-1])\n",
    "                curveSection = 3\n",
    "                v4 = v_t\n",
    "                s4 = s_t\n",
    "            else:\n",
    "                # Constant velocity section\n",
    "                v_t = v3 #X.maxVel             ##\n",
    "                s_t = s3 + X.maxVel*(tm-Ts2) ##\n",
    "\n",
    "        if v_t >= v0:\n",
    "            # if v0 != 0 corrections by finding where v[t] == v0\n",
    "            Tm = tm\n",
    "            sm = s_t\n",
    "            vm = v_t\n",
    "            Im = i\n",
    "            break\n",
    "\n",
    "    print(\"time:\", Tm, \"distance:\", sm, \"velocity:\", vm)\n",
    "        \n"
   ]
  },
  {
   "cell_type": "code",
   "execution_count": 340,
   "metadata": {},
   "outputs": [
    {
     "name": "stdout",
     "output_type": "stream",
     "text": [
      "time_1:  0 time_2:  0 time_3:  89.92510985485103\n",
      "time_4:  61.93446763739609 time_5:  89.92510985485103 time_6:  0.07679999999999154\n",
      "final time smooth:  331.7865972019492 final time trapezoid:  337.4633252394664\n"
     ]
    }
   ],
   "source": [
    "# how long each s-curve section takes\n",
    "if Tm < T1:\n",
    "    T1 = X.maxAccel / X.maxJerk - (v0 - vf) / X.maxAccel\n",
    "    T3 = X.maxAccel / X.maxJerk\n",
    "    T2 = X_time.x - T1 - T3\n",
    "    if T2 <= 0:\n",
    "        T2 = 0\n",
    "\n",
    "elif Tm > T1:\n",
    "    T1 = 0\n",
    "    if T2 > 0 and Tm < T2:\n",
    "        T3 = X.maxAccel / X.maxJerk\n",
    "        T2 = X_time.x - T1 - T3\n",
    "        if T2 <= 0:\n",
    "            T2 = 0\n",
    "    elif Tm > T2 and Tm < T3:\n",
    "        T3 = X.maxAccel / X.maxJerk - (v0 - vf) / X.maxAccel\n",
    "        T2 = 0\n",
    "    elif Tm < T4:\n",
    "        T3 = 0\n",
    "        T2 = 0\n",
    "\n",
    "T4 = X_time.x_hat\n",
    "if T4 < 0:\n",
    "    T4 = 0\n",
    "\n",
    "T5 = X.maxDeaccel / X.maxJerk\n",
    "T6 = X_time.x_bar - 2*T5\n",
    "if T6 < 0:\n",
    "    T6 = 0\n",
    "\n",
    "print(\"time_1: \",T1,\"time_2: \",T2,\"time_3: \",T3)\n",
    "print(\"time_4: \",T4,\"time_5: \",T5,\"time_6: \",T6)\n",
    "\n",
    "# time at the end of each section of the s-curve\n",
    "Ts1 = T1 + T2\n",
    "Ts2 = Ts1 + T3\n",
    "Ts3 = Ts2 + T4\n",
    "Ts4 = Ts3 + T5\n",
    "Ts5 = Ts4 + T6\n",
    "\n",
    "Ts6= Ts5 + T5 # total time it takes to go thorugh every s-curve section\n",
    "\n",
    "print(\"final time smooth: \",Ts6, \"final time trapezoid: \", total_time_x)"
   ]
  },
  {
   "cell_type": "code",
   "execution_count": 341,
   "metadata": {},
   "outputs": [],
   "source": [
    "## S-curve setup\n",
    "# calculate the number of points for the s, v, and a arrays\n",
    "numMillsec = 0.001\n",
    "numPoints = int(Ts6 / numMillsec) # point every 5 msec\n",
    "\n",
    "# set up the arrays\n",
    "s = np.zeros(numPoints)\n",
    "v = np.zeros(numPoints)\n",
    "a = np.zeros(numPoints)\n",
    "j = np.zeros(numPoints)\n",
    "t = np.zeros(numPoints)\n",
    "\n",
    "curveSection = 0   # which of the 7 s-curve sections code's currently on\n",
    "i = 0"
   ]
  },
  {
   "cell_type": "code",
   "execution_count": 342,
   "metadata": {},
   "outputs": [],
   "source": [
    "for i in range(numPoints):\n",
    "        t[i] = i * numMillsec # in msec\n",
    "        if curveSection == 0:\n",
    "            # Concave accel section\n",
    "            if t[i] >= T1 and T2 > 0:\n",
    "                # print(\"time_1: \", t[i], \"change: \", T1, \"dist moved: \", s[i-1])\n",
    "                # curveSection = 1\n",
    "                curveSection = 10\n",
    "                v1 = v[i-1]\n",
    "                s1 = s[i-1]\n",
    "            elif t[i] >= T1 and T2 <= 0:\n",
    "                # print(\"time_1: \", t[i], \"change: \", T1, \"dist moved: \", s[i-1])\n",
    "                # curveSection = 1\n",
    "                curveSection = 1\n",
    "                v1 = v[i-1]\n",
    "                v2 = v1\n",
    "                s1 = s[i-1]\n",
    "                s2 = s1\n",
    "            else:\n",
    "                j[i] = X.maxJerk\n",
    "                a[i] = X.maxJerk*t[i]         ##\n",
    "                v[i] = v0 + X.maxJerk*t[i]**2 / 2  ##\n",
    "                s[i] = start[1] + X.maxJerk*t[i]**3 / 6  ##\n",
    "\n",
    "        if curveSection == 10:\n",
    "            if t[i] >= Ts1:\n",
    "                # print(\"time_2: \", t[i], \"change: \", Ts1, \"dist moved: \", s[i-1])\n",
    "                curveSection = 1\n",
    "                v2 = v[i-1]\n",
    "                s2 = s[i-1]\n",
    "            else:\n",
    "                a[i] = X.maxAccel\n",
    "                v[i] = v1 + X.maxAccel*(t[i]-T1)                        ##\n",
    "                s[i] = s1 + v1*(t[i]-T1) + X.maxAccel*(t[i]-T1)**2 / 2  ##\n",
    "\n",
    "        if curveSection == 1:\n",
    "            if t[i] >= Ts2 and T4 > 0:\n",
    "                # print(\"time_3: \", t[i], \"change: \", Ts2, \"dist moved: \", s[i-1])\n",
    "                curveSection = 2\n",
    "                v3 = v[i-1]\n",
    "                s3 = s[i-1]\n",
    "            elif t[i] >= Ts2 and T4 <= 0:\n",
    "                # print(\"time_3: \", t[i], \"change: \", Ts2, \"dist moved: \", s[i-1])\n",
    "                curveSection = 3\n",
    "                v3 = v[i-1]\n",
    "                v4 = v3\n",
    "                s3 = s[i-1]\n",
    "                s4 = s3\n",
    "            else:\n",
    "                # Convex accel period\n",
    "                a[i] = X.maxAccel - X.maxJerk*(t[i]-Ts1)                                              ##\n",
    "                v[i] = v2 + X.maxAccel*(t[i]-Ts1) - X.maxJerk*(t[i]-Ts1)**2 / 2                 ##\n",
    "                s[i] = s2 + v2*(t[i]-Ts1) + X.maxAccel*(t[i]-Ts1)**2 / 2 - X.maxJerk*(t[i]-Ts1)**3 / 6  ##\n",
    "\n",
    "        if curveSection == 2:\n",
    "            if t[i] >= Ts3:\n",
    "                # print(\"time_4: \", t[i], \"change: \", Ts3, \"dist moved: \", s[i-1])\n",
    "                curveSection = 3\n",
    "                v4 = v[i-1]\n",
    "                s4 = s[i-1]\n",
    "            else:\n",
    "                # Constant velocity section\n",
    "                a[i] = 0                       ##\n",
    "                v[i] = v3 #X.maxVel             ##\n",
    "                s[i] = s3 + X.maxVel*(t[i]-Ts2) ##\n",
    "\n",
    "        if curveSection == 3:\n",
    "            # Convex deaccel period\n",
    "            if t[i] >= Ts4 and T6 > 0:\n",
    "                # print(\"time_5: \", t[i], \"change: \", Ts4, \"dist moved: \", s[i-1])\n",
    "                curveSection = 20\n",
    "                v5 = v[i-1]\n",
    "                s5 = s[i-1]\n",
    "            elif t[i] >= Ts4 and T6 <= 0:\n",
    "                # print(\"time_5: \", t[i], \"change: \", Ts4, \"dist moved: \", s[i-1])\n",
    "                curveSection = 4\n",
    "                v5 = v[i-1]\n",
    "                v6 = v5\n",
    "                s5 = s[i-1]\n",
    "                s6 = s5\n",
    "            else:\n",
    "                a[i] = -X.maxJerk*(t[i]-Ts3)                           ##\n",
    "                v[i] = v4 - X.maxJerk*(t[i]-Ts3)**2 / 2                ##\n",
    "                s[i] = s4 + v4*(t[i]-Ts3) - X.maxJerk*(t[i]-Ts3)**3 / 6 ##\n",
    "\n",
    "        if curveSection == 20:\n",
    "            if t[i] >= Ts5:\n",
    "                # print(\"time_6: \", t[i], \"change: \", Ts5, \"dist moved: \", s[i-1])\n",
    "                curveSection = 4\n",
    "                v6 = v[i-1]\n",
    "                s6 = s[i-1]\n",
    "            else:\n",
    "                a[i] = -X.maxDeaccel                                              ##\n",
    "                v[i] = v5 - X.maxDeaccel*(t[i]-Ts4)                   ##\n",
    "                s[i] = s5 + v5*(t[i]-Ts4) - X.maxDeaccel*(t[i]-Ts4)**2 / 2      ##\n",
    "\n",
    "        if curveSection == 4:\n",
    "            j[i] = X.maxJerk\n",
    "            a[i] = -X.maxDeaccel + X.maxJerk*(t[i]-Ts5)                                                                  ##\n",
    "            v[i] = v6 - X.maxDeaccel*(t[i]-Ts5) + X.maxJerk*(t[i]-Ts5)**2 / 2 ##\n",
    "            s[i] = s6 + v6*(t[i]-Ts5) - X.maxDeaccel*(t[i]-Ts5)**2 / 2 + X.maxJerk*(t[i]-Ts5)**3 / 6\n"
   ]
  },
  {
   "cell_type": "code",
   "execution_count": 343,
   "metadata": {},
   "outputs": [
    {
     "name": "stdout",
     "output_type": "stream",
     "text": [
      "max velocity reached: 0.11708998678999587\n"
     ]
    }
   ],
   "source": [
    "print(\"max velocity reached:\",np.max(v))"
   ]
  },
  {
   "cell_type": "code",
   "execution_count": 344,
   "metadata": {
    "scrolled": false
   },
   "outputs": [
    {
     "name": "stdout",
     "output_type": "stream",
     "text": [
      "calculated distance: 47.76363395621057 distance moved: 21.518073907673507\n",
      "calculated time: 337.4633252394664 actual total time: 331.785\n"
     ]
    },
    {
     "data": {
      "image/png": "[encoded data removed]",
      "text/plain": [
       "<Figure size 432x288 with 1 Axes>"
      ]
     },
     "metadata": {
      "needs_background": "light"
     },
     "output_type": "display_data"
    }
   ],
   "source": [
    "## plot distance versus time to check results\n",
    "time_x = [0, X_trap.timeAccel, (timeConstVel_x + X_trap.timeAccel), (timeConstVel_x + X_trap.timeAccel + X_trap.timeDeaccel)]\n",
    "dist_x = [0, X_trap.distAccel, (X_trap.distAccel + distConstVel_x), (X_trap.distAccel + distConstVel_x + X_trap.distDeaccel)]\n",
    "vel_x  = [v0, X.maxVel, X.maxVel, vf]\n",
    "plt.plot(time_x, vel_x, label='Trapezoid')\n",
    "# plt.ylabel('Distance [u]', fontsize=16)\n",
    "# plt.show()\n",
    "\n",
    "# # with index of where v0 == v[index], correct the velocity, distance travelled, etc.\n",
    "# if v0 > vf:\n",
    "#     indexGreaterTm = np.where(t >= Tm)\n",
    "#     indexTm = indexGreaterTm[0][0]\n",
    "#     print(\"time:\",t[indexTm],\"distance:\",s[indexTm],\"velocity:\",v[indexTm])\n",
    "#     t = t[indexTm:] - t[indexTm]\n",
    "#     s = s[indexTm:] - s[indexTm]\n",
    "#     v = v[indexTm:]\n",
    "#     a = a[indexTm:]\n",
    "\n",
    "print(\"calculated distance:\", (xDist-sm),\"distance moved:\", s[s.size-1])\n",
    "print(\"calculated time:\", total_time_x,\"actual total time:\", t[t.size-1])\n",
    "\n",
    "# Plot values\n",
    "plt.plot(t, v, label='S-curve')\n",
    "# plt.plot(t, a)\n",
    "plt.xlabel('Time [msec]', fontsize=18)\n",
    "plt.ylabel('Velocity [rad/s]', fontsize=16)\n",
    "plt.legend()\n",
    "plt.show()"
   ]
  },
  {
   "cell_type": "code",
   "execution_count": 345,
   "metadata": {
    "scrolled": false
   },
   "outputs": [
    {
     "name": "stdout",
     "output_type": "stream",
     "text": [
      "calculated distance: 47.76363395621057 distance moved: 21.518073907673507\n",
      "calculated time: 337.4633252394664 actual total time: 331.785\n"
     ]
    },
    {
     "data": {
      "image/png": "[encoded data removed]",
      "text/plain": [
       "<Figure size 432x288 with 1 Axes>"
      ]
     },
     "metadata": {
      "needs_background": "light"
     },
     "output_type": "display_data"
    }
   ],
   "source": [
    "## plot distance versus time to check results\n",
    "dist_x = [0, X_trap.distAccel, (X_trap.distAccel + distConstVel_x), (X_trap.distAccel + distConstVel_x + X_trap.distDeaccel)]\n",
    "plt.plot(time_x, dist_x, label='Trapezoid')\n",
    "\n",
    "print(\"calculated distance:\", (xDist-sm),\"distance moved:\", s[s.size-1])\n",
    "print(\"calculated time:\", total_time_x,\"actual total time:\", t[t.size-1])\n",
    "\n",
    "# Plot values\n",
    "plt.plot(t, s, label='S-curve')\n",
    "# plt.plot(t, a)\n",
    "plt.xlabel('Time [msec]', fontsize=18)\n",
    "plt.ylabel('Distance [rads]', fontsize=16)\n",
    "plt.legend()\n",
    "plt.show()"
   ]
  },
  {
   "cell_type": "code",
   "execution_count": null,
   "metadata": {},
   "outputs": [],
   "source": []
  },
  {
   "cell_type": "code",
   "execution_count": null,
   "metadata": {},
   "outputs": [],
   "source": []
  }
 ],
 "metadata": {
  "kernelspec": {
   "display_name": "Python 3",
   "language": "python",
   "name": "python3"
  },
  "language_info": {
   "codemirror_mode": {
    "name": "ipython",
    "version": 3
   },
   "file_extension": ".py",
   "mimetype": "text/x-python",
   "name": "python",
   "nbconvert_exporter": "python",
   "pygments_lexer": "ipython3",
   "version": "3.7.5"
  }
 },
 "nbformat": 4,
 "nbformat_minor": 2
}
